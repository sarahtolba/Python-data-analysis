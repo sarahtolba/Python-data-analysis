{
 "cells": [
  {
   "cell_type": "code",
   "execution_count": null,
   "id": "e385d472",
   "metadata": {},
   "outputs": [],
   "source": [
    "import pandas   as pd\n",
    "import numpy    as np   \n",
    "import matplotlib.pyplot as plt"
   ]
  },
  {
   "cell_type": "code",
   "execution_count": null,
   "id": "220030fb",
   "metadata": {},
   "outputs": [],
   "source": [
    "df = pd.read_csv(r\"C:\\Users\\SarahSamir\\Desktop\\data.csv\") # i can add aditional parameters like sep, header, etc. or skiprows, etc.\n",
    "df"
   ]
  },
  {
   "cell_type": "code",
   "execution_count": null,
   "id": "e3aaef03",
   "metadata": {},
   "outputs": [],
   "source": [
    "df.info() # to get information about the data frame if it has null values, data types, etc. if the number of columns is not equal to the number of rows, \n",
    "#it will show the number of non-null values in each column.\n",
    "df.describe() # to get the statistical summary of the data frame, it will show the count, mean, std, min, 25%, 50%, 75%, max of each column."
   ]
  },
  {
   "cell_type": "code",
   "execution_count": null,
   "id": "73357a8e",
   "metadata": {},
   "outputs": [],
   "source": [
    "df = df.dropna(how = \"any\") #(how = \"any\" or \"all\") \n",
    "#or df.dropna(how = \"any\", inplace = True) # to drop the rows with any null values, inplace = True will modify the original data frame\n"
   ]
  },
  {
   "cell_type": "code",
   "execution_count": null,
   "id": "ea854576",
   "metadata": {},
   "outputs": [],
   "source": [
    "df.info()"
   ]
  },
  {
   "cell_type": "code",
   "execution_count": null,
   "id": "cc907fe4",
   "metadata": {},
   "outputs": [],
   "source": [
    "df[df[\"chromosome_name\"] == \"chrX\"]\n",
    "\n"
   ]
  },
  {
   "cell_type": "code",
   "execution_count": null,
   "id": "17f958cd",
   "metadata": {},
   "outputs": [],
   "source": [
    "df.query(\"chromosome_name == 'chr3'\") # to filter the data frame by a specific condition, it will return a new data frame with the filtered rows"
   ]
  },
  {
   "cell_type": "code",
   "execution_count": null,
   "id": "cea70d4c",
   "metadata": {},
   "outputs": [],
   "source": [
    "df.query?"
   ]
  },
  {
   "cell_type": "code",
   "execution_count": null,
   "id": "35185f09",
   "metadata": {},
   "outputs": [],
   "source": [
    "df[(df[\"pvalue\"] < 0.05) & (df[\"chromosome_name\"] == \"chr9\")]\n"
   ]
  },
  {
   "cell_type": "code",
   "execution_count": null,
   "id": "a001dc6f",
   "metadata": {},
   "outputs": [],
   "source": [
    "df[df[\"Gene.ID\"].str.startswith(\"ENSG\")] \n",
    "\n",
    "# to filter the data frame by a specific condition, it will return a new data frame with the filtered rows"
   ]
  },
  {
   "cell_type": "code",
   "execution_count": null,
   "id": "35da0244",
   "metadata": {},
   "outputs": [],
   "source": [
    "df[df[\"Gene.ID\"].str.endswith(\"3\")] \n"
   ]
  }
 ],
 "metadata": {
  "kernelspec": {
   "display_name": "Python 3",
   "language": "python",
   "name": "python3"
  },
  "language_info": {
   "codemirror_mode": {
    "name": "ipython",
    "version": 3
   },
   "file_extension": ".py",
   "mimetype": "text/x-python",
   "name": "python",
   "nbconvert_exporter": "python",
   "pygments_lexer": "ipython3",
   "version": "3.12.3"
  }
 },
 "nbformat": 4,
 "nbformat_minor": 5
}
