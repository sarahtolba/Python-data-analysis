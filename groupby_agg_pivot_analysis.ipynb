{
 "cells": [
  {
   "cell_type": "code",
   "execution_count": null,
   "id": "5309b867",
   "metadata": {},
   "outputs": [],
   "source": [
    "import pandas as pd"
   ]
  },
  {
   "cell_type": "code",
   "execution_count": null,
   "id": "c85939fc",
   "metadata": {},
   "outputs": [],
   "source": [
    "df = pd.read_csv(r\"C:\\Users\\SarahSamir\\Desktop\\python\\ranges_cleaned.csv\")\n",
    "df"
   ]
  },
  {
   "cell_type": "code",
   "execution_count": null,
   "id": "35dcaa6e",
   "metadata": {},
   "outputs": [],
   "source": [
    "df[\"baseMean\"].unique() #unique is used to get unique values in a column\n"
   ]
  },
  {
   "cell_type": "code",
   "execution_count": null,
   "id": "1cc10c7b",
   "metadata": {},
   "outputs": [],
   "source": [
    "df[['chromosome_name', 'significant']].drop_duplicates()\n",
    " "
   ]
  },
  {
   "cell_type": "code",
   "execution_count": null,
   "id": "59b97073",
   "metadata": {},
   "outputs": [],
   "source": [
    "df[\"chromosome_name\"].value_counts()"
   ]
  },
  {
   "cell_type": "code",
   "execution_count": null,
   "id": "1c83d18b",
   "metadata": {},
   "outputs": [],
   "source": [
    "df.groupby(\"chromosome_name\")[\"significant\"].value_counts()\n",
    "       "
   ]
  },
  {
   "cell_type": "code",
   "execution_count": null,
   "id": "c4768dc6",
   "metadata": {},
   "outputs": [],
   "source": [
    "df.groupby(\"chromosome_name\").size()\n"
   ]
  },
  {
   "cell_type": "code",
   "execution_count": null,
   "id": "ec4422e3",
   "metadata": {},
   "outputs": [],
   "source": [
    "df.groupby([\"chromosome_name\", \"chr_num\"])[\"significant\"].agg([\"sum\", \"mean\"])\n"
   ]
  },
  {
   "cell_type": "code",
   "execution_count": null,
   "id": "f4922627",
   "metadata": {},
   "outputs": [],
   "source": [
    "df.groupby([\"chromosome_name\", \"chr_num\"]).agg({\"significant\": \"sum\", \"baseMean\": \"mean\", \"log2FoldChange\": \"mean\"})\n"
   ]
  },
  {
   "cell_type": "code",
   "execution_count": null,
   "id": "72f4520c",
   "metadata": {},
   "outputs": [],
   "source": [
    "pivot_table = df.pivot_table(index=\"chromosome_name\", columns=\"chr_num\", values=\"significant\")\n",
    "pivot_table\n"
   ]
  }
 ],
 "metadata": {
  "kernelspec": {
   "display_name": "Python 3",
   "language": "python",
   "name": "python3"
  },
  "language_info": {
   "codemirror_mode": {
    "name": "ipython",
    "version": 3
   },
   "file_extension": ".py",
   "mimetype": "text/x-python",
   "name": "python",
   "nbconvert_exporter": "python",
   "pygments_lexer": "ipython3",
   "version": "3.12.3"
  }
 },
 "nbformat": 4,
 "nbformat_minor": 5
}
