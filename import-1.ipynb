{
 "cells": [
  {
   "cell_type": "code",
   "execution_count": null,
   "id": "309e9568",
   "metadata": {},
   "outputs": [],
   "source": [
    "import pandas as pd"
   ]
  },
  {
   "cell_type": "code",
   "execution_count": null,
   "id": "7a9e389a",
   "metadata": {},
   "outputs": [],
   "source": [
    "import numpy as np\n"
   ]
  },
  {
   "cell_type": "code",
   "execution_count": null,
   "id": "32a8571e",
   "metadata": {},
   "outputs": [],
   "source": [
    "import matplotlib.pyplot as plt"
   ]
  },
  {
   "cell_type": "code",
   "execution_count": null,
   "id": "aa1db796",
   "metadata": {},
   "outputs": [],
   "source": [
    "df = pd.read_csv(r\"C:\\Users\\SarahSamir\\Desktop\\res.csv\")\n",
    "df"
   ]
  },
  {
   "cell_type": "code",
   "execution_count": null,
   "id": "89dc29c6",
   "metadata": {},
   "outputs": [],
   "source": [
    "df.head()"
   ]
  },
  {
   "cell_type": "code",
   "execution_count": null,
   "id": "e437bcd7",
   "metadata": {},
   "outputs": [],
   "source": [
    "df.tail(8)"
   ]
  },
  {
   "cell_type": "code",
   "execution_count": null,
   "id": "95e0c2ef",
   "metadata": {},
   "outputs": [],
   "source": [
    "df[[\"log2FoldChange\",\"pvalue\",\"padj\"]]"
   ]
  },
  {
   "cell_type": "code",
   "execution_count": null,
   "id": "82725168",
   "metadata": {},
   "outputs": [],
   "source": [
    "type(df[[\"log2FoldChange\",\"pvalue\"]])"
   ]
  },
  {
   "cell_type": "code",
   "execution_count": null,
   "id": "23fbd0ce",
   "metadata": {},
   "outputs": [],
   "source": [
    "df\n",
    "df.describe()"
   ]
  },
  {
   "cell_type": "code",
   "execution_count": null,
   "id": "4d487e6b",
   "metadata": {},
   "outputs": [],
   "source": [
    "df[\"log2FoldChange\"].describe()"
   ]
  },
  {
   "cell_type": "code",
   "execution_count": null,
   "id": "03e16956",
   "metadata": {},
   "outputs": [],
   "source": [
    "df[[\"log2FoldChange\",\"pvalue\"]].describe()"
   ]
  },
  {
   "cell_type": "code",
   "execution_count": null,
   "id": "f606ebcd",
   "metadata": {},
   "outputs": [],
   "source": [
    "df.info()\n",
    "#object means str"
   ]
  },
  {
   "cell_type": "code",
   "execution_count": null,
   "id": "8f3de63f",
   "metadata": {},
   "outputs": [],
   "source": [
    "df.sum() #sum of all columns"
   ]
  },
  {
   "cell_type": "code",
   "execution_count": null,
   "id": "591d5486",
   "metadata": {},
   "outputs": [],
   "source": [
    "df.mean(numeric_only= True) #mean of all columns\n",
    "#because we have some string columns, we need to specify numeric_only=True"
   ]
  },
  {
   "cell_type": "code",
   "execution_count": null,
   "id": "75d9b076",
   "metadata": {},
   "outputs": [],
   "source": [
    "df.max(numeric_only= True) #max of all columns"
   ]
  },
  {
   "cell_type": "code",
   "execution_count": null,
   "id": "bd924a3b",
   "metadata": {},
   "outputs": [],
   "source": [
    "df.select_dtypes(include=\"number\").agg([\"sum\", \"mean\", \"max\"])\n"
   ]
  },
  {
   "cell_type": "code",
   "execution_count": null,
   "id": "8a867a7e",
   "metadata": {},
   "outputs": [],
   "source": [
    "df.plot(kind=\"bar\", y=\"log2FoldChange\", title=\"Log2 Fold Change vs P-Value\")"
   ]
  }
 ],
 "metadata": {
  "kernelspec": {
   "display_name": "Python 3",
   "language": "python",
   "name": "python3"
  },
  "language_info": {
   "codemirror_mode": {
    "name": "ipython",
    "version": 3
   },
   "file_extension": ".py",
   "mimetype": "text/x-python",
   "name": "python",
   "nbconvert_exporter": "python",
   "pygments_lexer": "ipython3",
   "version": "3.12.3"
  }
 },
 "nbformat": 4,
 "nbformat_minor": 5
}
