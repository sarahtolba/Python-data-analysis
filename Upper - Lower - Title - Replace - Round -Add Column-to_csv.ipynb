{
 "cells": [
  {
   "cell_type": "code",
   "execution_count": null,
   "id": "0261da6c",
   "metadata": {},
   "outputs": [],
   "source": [
    "import pandas as pd"
   ]
  },
  {
   "cell_type": "code",
   "execution_count": null,
   "id": "55a02180",
   "metadata": {},
   "outputs": [],
   "source": [
    "df = pd.read_csv(r\"C:\\Users\\SarahSamir\\Desktop\\python\\ranges.csv\",)\n",
    "df"
   ]
  },
  {
   "cell_type": "code",
   "execution_count": null,
   "id": "597febec",
   "metadata": {},
   "outputs": [],
   "source": [
    "df.dropna(how = \"all\" ,inplace=True)"
   ]
  },
  {
   "cell_type": "code",
   "execution_count": null,
   "id": "7aee35e0",
   "metadata": {},
   "outputs": [],
   "source": [
    "df[\"chromosome_name\"] = df[\"chromosome_name\"].str.title()\n"
   ]
  },
  {
   "cell_type": "code",
   "execution_count": null,
   "id": "210c7790",
   "metadata": {},
   "outputs": [],
   "source": [
    "df[(df[\"chromosome_name\"] == \"Chr1\") & (df[\"start_position\"] < 1000) & (df[\"end_position\"] > 1000)]"
   ]
  },
  {
   "cell_type": "code",
   "execution_count": null,
   "id": "7ffc56e7",
   "metadata": {},
   "outputs": [],
   "source": [
    "df"
   ]
  },
  {
   "cell_type": "code",
   "execution_count": null,
   "id": "3b136153",
   "metadata": {},
   "outputs": [],
   "source": [
    "df[\"symbol\"] = df[\"symbol\"].str.upper()\n",
    "df"
   ]
  },
  {
   "cell_type": "code",
   "execution_count": null,
   "id": "1806dccb",
   "metadata": {},
   "outputs": [],
   "source": [
    "df[\"symbol\"] = df[\"symbol\"].str.lower()\n",
    "df"
   ]
  },
  {
   "cell_type": "code",
   "execution_count": null,
   "id": "c9fcb797",
   "metadata": {},
   "outputs": [],
   "source": [
    "df[df[\"Gene.ID\"].str.endswith(\"3\")]"
   ]
  },
  {
   "cell_type": "code",
   "execution_count": null,
   "id": "f143f11f",
   "metadata": {},
   "outputs": [],
   "source": [
    "df[(df[\"Gene.ID\"].str.endswith(\"3\")) & (df[\"chromosome_name\"] == \"chr1\")]\n"
   ]
  },
  {
   "cell_type": "code",
   "execution_count": null,
   "id": "9329fedd",
   "metadata": {},
   "outputs": [],
   "source": [
    "df[\"chromosome_name\"] = df[\"chromosome_name\"].str.replace(\"Chr\",\"\")\n",
    "df"
   ]
  },
  {
   "cell_type": "code",
   "execution_count": null,
   "id": "b8838393",
   "metadata": {},
   "outputs": [],
   "source": [
    "df[\"baseMean\"] = df[\"baseMean\"].round()\n",
    "df"
   ]
  },
  {
   "cell_type": "code",
   "execution_count": null,
   "id": "2fc7e71a",
   "metadata": {},
   "outputs": [],
   "source": [
    "df[\"gene_lengh\"] = df[\"end_position\"] - df[\"start_position\"].fillna(0) #to avoid NaN issues\n",
    "df"
   ]
  },
  {
   "cell_type": "code",
   "execution_count": null,
   "id": "f906138f",
   "metadata": {},
   "outputs": [],
   "source": [
    "df[\"padj\"] < 0.05\n"
   ]
  },
  {
   "cell_type": "code",
   "execution_count": null,
   "id": "6a25b946",
   "metadata": {},
   "outputs": [],
   "source": [
    "df.insert(12,\"significant\", df[\"padj\"] < 0.05)\n"
   ]
  },
  {
   "cell_type": "code",
   "execution_count": null,
   "id": "29c6724b",
   "metadata": {},
   "outputs": [],
   "source": [
    "df\n"
   ]
  },
  {
   "cell_type": "code",
   "execution_count": null,
   "id": "254196ae",
   "metadata": {},
   "outputs": [],
   "source": [
    "df[\"chromosome_name\"] = \"chr\" + df[\"chromosome_name\"].astype(str)\n",
    "df"
   ]
  },
  {
   "cell_type": "code",
   "execution_count": null,
   "id": "e8b9177d",
   "metadata": {},
   "outputs": [],
   "source": [
    "chr_num = df[\"chromosome_name\"].str[3:]\n",
    "df.insert(4, \"chr_num\", chr_num)"
   ]
  },
  {
   "cell_type": "code",
   "execution_count": null,
   "id": "a8d4fce5",
   "metadata": {},
   "outputs": [],
   "source": [
    "df"
   ]
  },
  {
   "cell_type": "code",
   "execution_count": null,
   "id": "99fa661f",
   "metadata": {},
   "outputs": [],
   "source": [
    "df.to_csv(r\"C:\\Users\\SarahSamir\\Desktop\\python\\ranges_cleaned.csv\", index=False)"
   ]
  }
 ],
 "metadata": {
  "kernelspec": {
   "display_name": "Python 3",
   "language": "python",
   "name": "python3"
  },
  "language_info": {
   "codemirror_mode": {
    "name": "ipython",
    "version": 3
   },
   "file_extension": ".py",
   "mimetype": "text/x-python",
   "name": "python",
   "nbconvert_exporter": "python",
   "pygments_lexer": "ipython3",
   "version": "3.12.3"
  }
 },
 "nbformat": 4,
 "nbformat_minor": 5
}
